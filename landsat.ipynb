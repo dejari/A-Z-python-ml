{
 "cells": [
  {
   "cell_type": "code",
   "execution_count": 1,
   "id": "351d7f68",
   "metadata": {},
   "outputs": [],
   "source": [
    "import up42"
   ]
  },
  {
   "cell_type": "code",
   "execution_count": 2,
   "id": "8f1f8937",
   "metadata": {},
   "outputs": [
    {
     "name": "stderr",
     "output_type": "stream",
     "text": [
      "2022-05-11 15:55:22,169 - Authentication with UP42 successful!\n",
      "2022-05-11 15:55:23,119 - Initialized Project(name: Forestfire, project_id: b2ee0f3d-60ae-4d6e-859e-a1f705d3f3b4, description: , createdAt: 2022-05-11T19:30:23.588443Z)\n"
     ]
    }
   ],
   "source": [
    "# Authenticate and initialize project\n",
    "up42.authenticate(project_id=\"b2ee0f3d-60ae-4d6e-859e-a1f705d3f3b4\", \n",
    "                  project_api_key=\"R9MCBBUQ.5fdXwrbfTkcPbwwaRWJVpdZQuQ9oSEsotlX\")\n",
    "project = up42.initialize_project()"
   ]
  },
  {
   "cell_type": "code",
   "execution_count": 3,
   "id": "ae84c84f",
   "metadata": {},
   "outputs": [],
   "source": [
    "# Define the aoi \n",
    "namib_desert_aoi = {\"type\": \"FeatureCollection\",\"features\": [{\"type\": \"Feature\",\"properties\": {},\n",
    "      \"geometry\": {\"type\": \"Polygon\",\"coordinates\": [[[14.610298,-24.516841],\n",
    "                                                      [14.622478,-24.516841],\n",
    "                                                      [14.622478,-24.50833],\n",
    "                                                      [14.610298,-24.50833],\n",
    "                                                      [14.610298,-24.516841]]]}}]}"
   ]
  },
  {
   "cell_type": "code",
   "execution_count": 4,
   "id": "2e2d6a13",
   "metadata": {},
   "outputs": [
    {
     "name": "stderr",
     "output_type": "stream",
     "text": [
      "2022-05-11 15:55:36,566 - Getting existing workflows in project ...\n",
      "2022-05-11 15:55:38,350 - Got 2 workflows for project b2ee0f3d-60ae-4d6e-859e-a1f705d3f3b4.\n",
      "2022-05-11 15:55:39,449 - Using existing workflow: Landsat8-Geotiff-example - c25aa270-4030-4069-a6ef-5071f3091884\n",
      "2022-05-11 15:55:42,247 - Added tasks to workflow: [{'name': 'sentinelhub-landsat8-aoiclipped:1', 'parentName': None, 'blockId': '95519b2d-09d7-4cd0-a321-4d6a46bef6c1'}]\n"
     ]
    }
   ],
   "source": [
    "# Construct the workflow\n",
    "workflow = project.create_workflow(name=\"Landsat8-Geotiff-example\", use_existing=True)\n",
    "input_tasks = [\"sentinelhub-landsat8-aoiclipped\"]\n",
    "workflow.add_workflow_tasks(input_tasks)"
   ]
  },
  {
   "cell_type": "code",
   "execution_count": 5,
   "id": "e7749eb0",
   "metadata": {},
   "outputs": [],
   "source": [
    "# Define the aoi and input parameters of the workflow to run it\n",
    "input_parameters = workflow.construct_parameters(geometry=namib_desert_aoi, \n",
    "                                                 geometry_operation='bbox', \n",
    "                                                 start_date=\"2018-11-07\",\n",
    "                                                 end_date=\"2020-12-31\")\n",
    "input_parameters[\"sentinelhub-landsat8-aoiclipped:1\"].update({\"max_cloud_cover\":100})  "
   ]
  },
  {
   "cell_type": "code",
   "execution_count": 6,
   "id": "835bccfa",
   "metadata": {},
   "outputs": [
    {
     "name": "stderr",
     "output_type": "stream",
     "text": [
      "2022-05-11 15:56:05,162 - Estimated: 1-2 Credits, Duration: 0-0 min.\n"
     ]
    },
    {
     "data": {
      "text/plain": [
       "{'sentinelhub-landsat8-aoiclipped:1': {'blockConsumption': {'resources': {'unit': 'MEGAPIXEL',\n",
       "    'min': 0,\n",
       "    'max': 0.056294},\n",
       "   'credit': {'min': 0, 'max': 1}},\n",
       "  'machineConsumption': {'duration': {'min': 0, 'max': 0},\n",
       "   'credit': {'min': 1, 'max': 1}}}}"
      ]
     },
     "execution_count": 6,
     "metadata": {},
     "output_type": "execute_result"
    }
   ],
   "source": [
    "# Estimate parameters\n",
    "workflow.estimate_job(input_parameters)"
   ]
  },
  {
   "cell_type": "code",
   "execution_count": 7,
   "id": "ceeaf272",
   "metadata": {},
   "outputs": [
    {
     "name": "stderr",
     "output_type": "stream",
     "text": [
      "2022-05-11 15:56:15,040 - Selected input_parameters: {'sentinelhub-landsat8-aoiclipped:1': {'time': '2018-11-07T00:00:00Z/2020-12-31T23:59:59Z', 'limit': 1, 'zoom_level': 12, 'max_cloud_cover': 100, 'bbox': [14.610298, -24.516841, 14.622478, -24.50833]}}\n",
      "2022-05-11 15:56:18,950 - Created and running new job: 55bb3b5a-e587-46f8-83ef-c4d5bd57a84c.\n",
      "2022-05-11 15:56:19,269 - Tracking job status continuously, reporting every 30 seconds...\n",
      "2022-05-11 15:56:52,064 - Job is RUNNING! - 55bb3b5a-e587-46f8-83ef-c4d5bd57a84c\n",
      "2022-05-11 15:56:57,483 - Job is FAILED! - 55bb3b5a-e587-46f8-83ef-c4d5bd57a84c - Printing logs ...\n",
      "2022-05-11 15:56:57,484 - Getting job tasks: 55bb3b5a-e587-46f8-83ef-c4d5bd57a84c\n",
      "2022-05-11 15:56:57,942 - Getting logs for 1 job tasks: ['592d3d05-9c60-4be6-94d8-cbd685a8d7e8']\n"
     ]
    },
    {
     "name": "stdout",
     "output_type": "stream",
     "text": [
      "Printing logs of 1 JobTasks in Job with job_id 55bb3b5a-e587-46f8-83ef-c4d5bd57a84c:\n",
      "\n",
      "----------------------------------------------------------\n",
      "JobTask 1 with jobtask_id 592d3d05-9c60-4be6-94d8-cbd685a8d7e8:\n",
      "\n",
      "2022-05-11 19:56:28,541 - blockutils.common - DEBUG - Raw task parameters from UP42_TASK_PARAMETERS are: {\"bbox\":[14.610298,-24.516841,14.622478,-24.50833],\"time\":\"2018-11-07T00:00:00Z/2020-12-31T23:59:59Z\",\"limit\":1,\"zoom_level\":12,\"max_cloud_cover\":100}\n",
      "2022-05-11 19:56:28,541 - landsat8 - INFO - Identifying needed tiles to satisfy request\n",
      "2022-05-11 19:56:28,542 - landsat8 - DEBUG - Found 1 potential tiles in image\n",
      "2022-05-11 19:56:28,542 - landsat8 - INFO - Fetching available image dates from WFS\n",
      "2022-05-11 19:56:28,543 - apiutils.sentinelhub - DEBUG - ?SERVICE=WFS&REQUEST=GetFeature&LAYERS=BANDS-L8&BBOX=14.610298,-24.516841,14.622478,-24.50833&FORMAT=application/json&SRSNAME=CRS:84&TYPENAMES=L8.TILE&TIME=2018-11-07/2020-12-31/P1D&MAXCC=100\n",
      "2022-05-11 19:56:29,400 - landsat8 - ERROR - Connection error with API. Please try again later.\n",
      "Traceback (most recent call last):\n",
      "  File \"/usr/local/lib/python3.7/site-packages/up42-0.0.0-py3.7.egg/blockutils/exceptions.py\", line 121, in wrapper\n",
      "    return function(*args, **kwargs)\n",
      "  File \"/block/src/landsat8.py\", line 58, in run\n",
      "    query, dry_run=get_block_mode() == BlockModes.DRY_RUN.value\n",
      "  File \"/block/src/landsat8.py\", line 109, in fetch\n",
      "    suffix=\"T1\",\n",
      "  File \"/usr/local/lib/python3.7/site-packages/up42-0.0.0-py3.7.egg/apiutils/sentinelhub.py\", line 202, in wfs_search\n",
      "    f\"Request to Sentinelhub errored with status code. {wfs_response.status_code}\",\n",
      "blockutils.exceptions.UP42Error: [API_CONNECTION_ERROR] Request to Sentinelhub errored with status code. 400\n",
      "\n"
     ]
    },
    {
     "ename": "ValueError",
     "evalue": "Job has failed! See the above log.",
     "output_type": "error",
     "traceback": [
      "\u001b[1;31m---------------------------------------------------------------------------\u001b[0m",
      "\u001b[1;31mValueError\u001b[0m                                Traceback (most recent call last)",
      "Input \u001b[1;32mIn [7]\u001b[0m, in \u001b[0;36m<cell line: 2>\u001b[1;34m()\u001b[0m\n\u001b[0;32m      1\u001b[0m \u001b[38;5;66;03m# Run the actual live job\u001b[39;00m\n\u001b[1;32m----> 2\u001b[0m job \u001b[38;5;241m=\u001b[39m \u001b[43mworkflow\u001b[49m\u001b[38;5;241;43m.\u001b[39;49m\u001b[43mrun_job\u001b[49m\u001b[43m(\u001b[49m\u001b[43minput_parameters\u001b[49m\u001b[43m,\u001b[49m\u001b[43m \u001b[49m\u001b[43mtrack_status\u001b[49m\u001b[38;5;241;43m=\u001b[39;49m\u001b[38;5;28;43;01mTrue\u001b[39;49;00m\u001b[43m)\u001b[49m\n",
      "File \u001b[1;32m~\\anaconda3\\envs\\satellite\\lib\\site-packages\\up42\\workflow.py:767\u001b[0m, in \u001b[0;36mWorkflow.run_job\u001b[1;34m(self, input_parameters, track_status, name)\u001b[0m\n\u001b[0;32m    749\u001b[0m \u001b[38;5;28;01mdef\u001b[39;00m \u001b[38;5;21mrun_job\u001b[39m(\n\u001b[0;32m    750\u001b[0m     \u001b[38;5;28mself\u001b[39m,\n\u001b[0;32m    751\u001b[0m     input_parameters: Union[Dict, \u001b[38;5;28mstr\u001b[39m, Path] \u001b[38;5;241m=\u001b[39m \u001b[38;5;28;01mNone\u001b[39;00m,\n\u001b[0;32m    752\u001b[0m     track_status: \u001b[38;5;28mbool\u001b[39m \u001b[38;5;241m=\u001b[39m \u001b[38;5;28;01mFalse\u001b[39;00m,\n\u001b[0;32m    753\u001b[0m     name: \u001b[38;5;28mstr\u001b[39m \u001b[38;5;241m=\u001b[39m \u001b[38;5;28;01mNone\u001b[39;00m,\n\u001b[0;32m    754\u001b[0m ) \u001b[38;5;241m-\u001b[39m\u001b[38;5;241m>\u001b[39m \u001b[38;5;124m\"\u001b[39m\u001b[38;5;124mJob\u001b[39m\u001b[38;5;124m\"\u001b[39m:\n\u001b[0;32m    755\u001b[0m     \u001b[38;5;124;03m\"\"\"\u001b[39;00m\n\u001b[0;32m    756\u001b[0m \u001b[38;5;124;03m    Creates and runs a new job.\u001b[39;00m\n\u001b[0;32m    757\u001b[0m \n\u001b[1;32m   (...)\u001b[0m\n\u001b[0;32m    765\u001b[0m \u001b[38;5;124;03m        The spawned job object.\u001b[39;00m\n\u001b[0;32m    766\u001b[0m \u001b[38;5;124;03m    \"\"\"\u001b[39;00m\n\u001b[1;32m--> 767\u001b[0m     \u001b[38;5;28;01mreturn\u001b[39;00m \u001b[38;5;28;43mself\u001b[39;49m\u001b[38;5;241;43m.\u001b[39;49m\u001b[43m_helper_run_job\u001b[49m\u001b[43m(\u001b[49m\n\u001b[0;32m    768\u001b[0m \u001b[43m        \u001b[49m\u001b[43minput_parameters\u001b[49m\u001b[38;5;241;43m=\u001b[39;49m\u001b[43minput_parameters\u001b[49m\u001b[43m,\u001b[49m\u001b[43m \u001b[49m\u001b[43mtrack_status\u001b[49m\u001b[38;5;241;43m=\u001b[39;49m\u001b[43mtrack_status\u001b[49m\u001b[43m,\u001b[49m\u001b[43m \u001b[49m\u001b[43mname\u001b[49m\u001b[38;5;241;43m=\u001b[39;49m\u001b[43mname\u001b[49m\n\u001b[0;32m    769\u001b[0m \u001b[43m    \u001b[49m\u001b[43m)\u001b[49m\n",
      "File \u001b[1;32m~\\anaconda3\\envs\\satellite\\lib\\site-packages\\up42\\workflow.py:589\u001b[0m, in \u001b[0;36mWorkflow._helper_run_job\u001b[1;34m(self, input_parameters, test_job, track_status, name)\u001b[0m\n\u001b[0;32m    582\u001b[0m job \u001b[38;5;241m=\u001b[39m Job(\n\u001b[0;32m    583\u001b[0m     \u001b[38;5;28mself\u001b[39m\u001b[38;5;241m.\u001b[39mauth,\n\u001b[0;32m    584\u001b[0m     job_id\u001b[38;5;241m=\u001b[39mjob_json[\u001b[38;5;124m\"\u001b[39m\u001b[38;5;124mid\u001b[39m\u001b[38;5;124m\"\u001b[39m],\n\u001b[0;32m    585\u001b[0m     project_id\u001b[38;5;241m=\u001b[39m\u001b[38;5;28mself\u001b[39m\u001b[38;5;241m.\u001b[39mproject_id,\n\u001b[0;32m    586\u001b[0m )\n\u001b[0;32m    588\u001b[0m \u001b[38;5;28;01mif\u001b[39;00m track_status:\n\u001b[1;32m--> 589\u001b[0m     \u001b[43mjob\u001b[49m\u001b[38;5;241;43m.\u001b[39;49m\u001b[43mtrack_status\u001b[49m\u001b[43m(\u001b[49m\u001b[43m)\u001b[49m\n\u001b[0;32m    590\u001b[0m \u001b[38;5;28;01mreturn\u001b[39;00m job\n",
      "File \u001b[1;32m~\\anaconda3\\envs\\satellite\\lib\\site-packages\\up42\\job.py:118\u001b[0m, in \u001b[0;36mJob.track_status\u001b[1;34m(self, report_time)\u001b[0m\n\u001b[0;32m    116\u001b[0m     logger\u001b[38;5;241m.\u001b[39minfo(\u001b[38;5;124mf\u001b[39m\u001b[38;5;124m\"\u001b[39m\u001b[38;5;124mJob is \u001b[39m\u001b[38;5;132;01m{\u001b[39;00mstatus\u001b[38;5;132;01m}\u001b[39;00m\u001b[38;5;124m! - \u001b[39m\u001b[38;5;132;01m{\u001b[39;00m\u001b[38;5;28mself\u001b[39m\u001b[38;5;241m.\u001b[39mjob_id\u001b[38;5;132;01m}\u001b[39;00m\u001b[38;5;124m - Printing logs ...\u001b[39m\u001b[38;5;124m\"\u001b[39m)\n\u001b[0;32m    117\u001b[0m     \u001b[38;5;28mself\u001b[39m\u001b[38;5;241m.\u001b[39mget_logs(as_print\u001b[38;5;241m=\u001b[39m\u001b[38;5;28;01mTrue\u001b[39;00m)\n\u001b[1;32m--> 118\u001b[0m     \u001b[38;5;28;01mraise\u001b[39;00m \u001b[38;5;167;01mValueError\u001b[39;00m(\u001b[38;5;124m\"\u001b[39m\u001b[38;5;124mJob has failed! See the above log.\u001b[39m\u001b[38;5;124m\"\u001b[39m)\n\u001b[0;32m    119\u001b[0m \u001b[38;5;28;01melif\u001b[39;00m status \u001b[38;5;129;01min\u001b[39;00m [\u001b[38;5;124m\"\u001b[39m\u001b[38;5;124mCANCELLED\u001b[39m\u001b[38;5;124m\"\u001b[39m, \u001b[38;5;124m\"\u001b[39m\u001b[38;5;124mCANCELLING\u001b[39m\u001b[38;5;124m\"\u001b[39m]:\n\u001b[0;32m    120\u001b[0m     logger\u001b[38;5;241m.\u001b[39minfo(\u001b[38;5;124mf\u001b[39m\u001b[38;5;124m\"\u001b[39m\u001b[38;5;124mJob is \u001b[39m\u001b[38;5;132;01m{\u001b[39;00mstatus\u001b[38;5;132;01m}\u001b[39;00m\u001b[38;5;124m! - \u001b[39m\u001b[38;5;132;01m{\u001b[39;00m\u001b[38;5;28mself\u001b[39m\u001b[38;5;241m.\u001b[39mjob_id\u001b[38;5;132;01m}\u001b[39;00m\u001b[38;5;124m\"\u001b[39m)\n",
      "\u001b[1;31mValueError\u001b[0m: Job has failed! See the above log."
     ]
    }
   ],
   "source": [
    "# Run the actual live job\n",
    "job = workflow.run_job(input_parameters, track_status=True)"
   ]
  },
  {
   "cell_type": "code",
   "execution_count": null,
   "id": "47b68c2f",
   "metadata": {},
   "outputs": [],
   "source": [
    "# Download results\n",
    "job.download_results()"
   ]
  },
  {
   "cell_type": "code",
   "execution_count": null,
   "id": "4c25051c",
   "metadata": {},
   "outputs": [],
   "source": [
    "# Plot the results\n",
    "job.plot_results(figsize=(6,6), bands=[4,3,2])"
   ]
  }
 ],
 "metadata": {
  "kernelspec": {
   "display_name": "Python 3 (ipykernel)",
   "language": "python",
   "name": "python3"
  },
  "language_info": {
   "codemirror_mode": {
    "name": "ipython",
    "version": 3
   },
   "file_extension": ".py",
   "mimetype": "text/x-python",
   "name": "python",
   "nbconvert_exporter": "python",
   "pygments_lexer": "ipython3",
   "version": "3.8.13"
  }
 },
 "nbformat": 4,
 "nbformat_minor": 5
}
