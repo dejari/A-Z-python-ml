{
 "cells": [
  {
   "cell_type": "code",
   "execution_count": 1,
   "id": "c3343c61",
   "metadata": {},
   "outputs": [],
   "source": [
    "import up42\n",
    "\n",
    "import rasterio\n",
    "import matplotlib.pyplot as plt\n",
    "import numpy as np"
   ]
  },
  {
   "cell_type": "code",
   "execution_count": 2,
   "id": "747bda7c",
   "metadata": {},
   "outputs": [
    {
     "name": "stderr",
     "output_type": "stream",
     "text": [
      "2022-05-25 16:10:15,066 - Authentication with UP42 successful!\n",
      "2022-05-25 16:10:15,309 - Initialized Project(name: Forestfire, project_id: b2ee0f3d-60ae-4d6e-859e-a1f705d3f3b4, description: , createdAt: 2022-05-11T19:30:23.588443Z)\n"
     ]
    }
   ],
   "source": [
    "# Authenticate user and initialise project.\n",
    "up42.authenticate(project_id=\"b2ee0f3d-60ae-4d6e-859e-a1f705d3f3b4\", \n",
    "                  project_api_key=\"5pOc3fHo.hpQyJP7C9WS7SEugbgPWHDbohUshJ3OJRHz\")\n",
    "project = up42.initialize_project()"
   ]
  },
  {
   "cell_type": "code",
   "execution_count": 10,
   "id": "c6f28c0a",
   "metadata": {},
   "outputs": [],
   "source": [
    "# Define the aoi\n",
    "aoi = {\"type\": \"FeatureCollection\",\"features\": [{\"type\": \"Feature\",\"properties\": {},\n",
    "    \"geometry\": {\"type\": \"Polygon\",\"coordinates\": [[[14.610298,-24.516841],\n",
    "                                                    [14.622478,-24.516841],\n",
    "                                                    [14.622478,-24.50833],\n",
    "                                                    [14.610298,-24.50833],\n",
    "                                                    [14.610298,-24.516841]]]}}]}"
   ]
  },
  {
   "cell_type": "code",
   "execution_count": 11,
   "id": "2b9bb00d",
   "metadata": {},
   "outputs": [
    {
     "name": "stderr",
     "output_type": "stream",
     "text": [
      "2022-05-25 16:11:45,561 - Getting existing workflows in project ...\n",
      "2022-05-25 16:11:45,962 - Got 3 workflows for project b2ee0f3d-60ae-4d6e-859e-a1f705d3f3b4.\n",
      "2022-05-25 16:11:46,405 - Using existing workflow: Sentinel2-l2-analytic-example - 2c7a592e-981a-4d1b-a196-9a3a103213b3\n",
      "2022-05-25 16:11:48,679 - Added tasks to workflow: [{'name': 'esa-s2-l2a-gtiff-analytic:1', 'parentName': None, 'blockId': 'e13d8e92-2763-4640-80d6-1501b2729707'}]\n"
     ]
    }
   ],
   "source": [
    "# Construct the workflow.\n",
    "workflow = project.create_workflow(name=\"Sentinel2-l2-analytic-example\", use_existing=True)\n",
    "input_tasks = [\"Sentinel-2 L2A Analytic (GeoTIFF)\"]\n",
    "workflow.add_workflow_tasks(input_tasks)"
   ]
  },
  {
   "cell_type": "code",
   "execution_count": 12,
   "id": "e7e674da",
   "metadata": {},
   "outputs": [],
   "source": [
    "# Define the aoi and input parameters of the workflow to run it.\n",
    "input_parameters = workflow.construct_parameters(geometry=aoi, \n",
    "                                                 geometry_operation='intersects', \n",
    "                                                 start_date=\"2002-11-07\", \n",
    "                                                 end_date=\"2020-12-31\",\n",
    "                                                 limit=1)\n",
    "input_parameters[\"esa-s2-l2a-gtiff-analytic:1\"].update({\"max_cloud_cover\":10})"
   ]
  },
  {
   "cell_type": "code",
   "execution_count": 13,
   "id": "67617800",
   "metadata": {},
   "outputs": [
    {
     "name": "stderr",
     "output_type": "stream",
     "text": [
      "2022-05-25 16:11:54,029 - Estimated: 1-1 Credits, Duration: 0-0 min.\n"
     ]
    },
    {
     "data": {
      "text/plain": [
       "{'esa-s2-l2a-gtiff-analytic:1': {'blockConsumption': {'resources': {'unit': 'SQUARE_KM',\n",
       "    'min': 1.168825,\n",
       "    'max': 1.168825},\n",
       "   'credit': {'min': 0, 'max': 0}},\n",
       "  'machineConsumption': {'duration': {'min': 0, 'max': 0},\n",
       "   'credit': {'min': 1, 'max': 1}}}}"
      ]
     },
     "execution_count": 13,
     "metadata": {},
     "output_type": "execute_result"
    }
   ],
   "source": [
    "# Price Estimation.\n",
    "workflow.estimate_job(input_parameters)"
   ]
  },
  {
   "cell_type": "code",
   "execution_count": 14,
   "id": "15a7557a",
   "metadata": {},
   "outputs": [
    {
     "name": "stderr",
     "output_type": "stream",
     "text": [
      "2022-05-25 16:11:54,037 - +++++++++++++++++++++++++++++++++\n",
      "2022-05-25 16:11:54,038 - Running this job as Test Query...\n",
      "2022-05-25 16:11:54,039 - +++++++++++++++++++++++++++++++++\n",
      "2022-05-25 16:11:54,039 - Selected input_parameters: {'esa-s2-l2a-gtiff-analytic:1': {'time': '2020-11-07T00:00:00Z/2020-12-31T23:59:59Z', 'limit': 1, 'max_cloud_cover': 10, 'intersects': {'type': 'Polygon', 'coordinates': (((14.610298, -24.516841), (14.622478, -24.516841), (14.622478, -24.50833), (14.610298, -24.50833), (14.610298, -24.516841)),)}}, 'config': {'mode': 'DRY_RUN'}}\n",
      "2022-05-25 16:11:55,120 - Created and running new job: f7ce8545-c5cb-43bc-8e05-28d9939f52ea.\n",
      "2022-05-25 16:11:55,563 - Tracking job status continuously, reporting every 30 seconds...\n",
      "2022-05-25 16:12:28,024 - Job is RUNNING! - f7ce8545-c5cb-43bc-8e05-28d9939f52ea\n",
      "2022-05-25 16:12:44,131 - Job finished successfully! - f7ce8545-c5cb-43bc-8e05-28d9939f52ea\n"
     ]
    }
   ],
   "source": [
    "# Run test job to query data availability and check the configuration.\n",
    "test_job = workflow.test_job(input_parameters, track_status=True)"
   ]
  },
  {
   "cell_type": "code",
   "execution_count": 15,
   "id": "3341dfa9",
   "metadata": {},
   "outputs": [
    {
     "name": "stderr",
     "output_type": "stream",
     "text": [
      "2022-05-25 16:12:49,137 - Selected input_parameters: {'esa-s2-l2a-gtiff-analytic:1': {'time': '2020-11-07T00:00:00Z/2020-12-31T23:59:59Z', 'limit': 1, 'max_cloud_cover': 10, 'intersects': {'type': 'Polygon', 'coordinates': (((14.610298, -24.516841), (14.622478, -24.516841), (14.622478, -24.50833), (14.610298, -24.50833), (14.610298, -24.516841)),)}}}\n",
      "2022-05-25 16:12:52,064 - Created and running new job: a9cbc2ad-ddca-426e-95c5-93aadf3f7725.\n",
      "2022-05-25 16:12:52,310 - Tracking job status continuously, reporting every 30 seconds...\n",
      "2022-05-25 16:13:24,485 - Job is RUNNING! - a9cbc2ad-ddca-426e-95c5-93aadf3f7725\n",
      "2022-05-25 16:13:56,497 - Job is RUNNING! - a9cbc2ad-ddca-426e-95c5-93aadf3f7725\n",
      "2022-05-25 16:14:28,296 - Job is RUNNING! - a9cbc2ad-ddca-426e-95c5-93aadf3f7725\n",
      "2022-05-25 16:15:00,404 - Job is RUNNING! - a9cbc2ad-ddca-426e-95c5-93aadf3f7725\n",
      "2022-05-25 16:15:34,049 - Job is RUNNING! - a9cbc2ad-ddca-426e-95c5-93aadf3f7725\n",
      "2022-05-25 16:15:49,940 - Job finished successfully! - a9cbc2ad-ddca-426e-95c5-93aadf3f7725\n"
     ]
    }
   ],
   "source": [
    "# Run actual Job.\n",
    "job = workflow.run_job(input_parameters, track_status=True)"
   ]
  },
  {
   "cell_type": "code",
   "execution_count": 16,
   "id": "7abec2b7",
   "metadata": {},
   "outputs": [
    {
     "name": "stderr",
     "output_type": "stream",
     "text": [
      "2022-05-25 16:16:36,452 - Downloading results of job a9cbc2ad-ddca-426e-95c5-93aadf3f7725\n",
      "2022-05-25 16:16:36,454 - Download directory: C:\\Users\\DEEP\\python_codes\\Untitled Folder\\project_b2ee0f3d-60ae-4d6e-859e-a1f705d3f3b4\\job_a9cbc2ad-ddca-426e-95c5-93aadf3f7725\n",
      "112it [00:00, 22455.16it/s]\n",
      "2022-05-25 16:16:37,654 - Download successful of 14 files to output_directory 'C:\\Users\\DEEP\\python_codes\\Untitled Folder\\project_b2ee0f3d-60ae-4d6e-859e-a1f705d3f3b4\\job_a9cbc2ad-ddca-426e-95c5-93aadf3f7725': ['data.json', 'S2B_33JVN_20201215_0_L2A_B01.tif', 'S2B_33JVN_20201215_0_L2A_B02.tif', 'S2B_33JVN_20201215_0_L2A_B03.tif', 'S2B_33JVN_20201215_0_L2A_B04.tif', 'S2B_33JVN_20201215_0_L2A_B05.tif', 'S2B_33JVN_20201215_0_L2A_B06.tif', 'S2B_33JVN_20201215_0_L2A_B07.tif', 'S2B_33JVN_20201215_0_L2A_B08.tif', 'S2B_33JVN_20201215_0_L2A_B09.tif', 'S2B_33JVN_20201215_0_L2A_B11.tif', 'S2B_33JVN_20201215_0_L2A_B12.tif', 'S2B_33JVN_20201215_0_L2A_B8A.tif', 'S2B_33JVN_20201215_0_L2A_vrt.vrt']\n"
     ]
    },
    {
     "data": {
      "text/plain": [
       "['C:\\\\Users\\\\DEEP\\\\python_codes\\\\Untitled Folder\\\\project_b2ee0f3d-60ae-4d6e-859e-a1f705d3f3b4\\\\job_a9cbc2ad-ddca-426e-95c5-93aadf3f7725\\\\data.json',\n",
       " 'C:\\\\Users\\\\DEEP\\\\python_codes\\\\Untitled Folder\\\\project_b2ee0f3d-60ae-4d6e-859e-a1f705d3f3b4\\\\job_a9cbc2ad-ddca-426e-95c5-93aadf3f7725\\\\S2B_33JVN_20201215_0_L2A\\\\S2B_33JVN_20201215_0_L2A_B01.tif',\n",
       " 'C:\\\\Users\\\\DEEP\\\\python_codes\\\\Untitled Folder\\\\project_b2ee0f3d-60ae-4d6e-859e-a1f705d3f3b4\\\\job_a9cbc2ad-ddca-426e-95c5-93aadf3f7725\\\\S2B_33JVN_20201215_0_L2A\\\\S2B_33JVN_20201215_0_L2A_B02.tif',\n",
       " 'C:\\\\Users\\\\DEEP\\\\python_codes\\\\Untitled Folder\\\\project_b2ee0f3d-60ae-4d6e-859e-a1f705d3f3b4\\\\job_a9cbc2ad-ddca-426e-95c5-93aadf3f7725\\\\S2B_33JVN_20201215_0_L2A\\\\S2B_33JVN_20201215_0_L2A_B03.tif',\n",
       " 'C:\\\\Users\\\\DEEP\\\\python_codes\\\\Untitled Folder\\\\project_b2ee0f3d-60ae-4d6e-859e-a1f705d3f3b4\\\\job_a9cbc2ad-ddca-426e-95c5-93aadf3f7725\\\\S2B_33JVN_20201215_0_L2A\\\\S2B_33JVN_20201215_0_L2A_B04.tif',\n",
       " 'C:\\\\Users\\\\DEEP\\\\python_codes\\\\Untitled Folder\\\\project_b2ee0f3d-60ae-4d6e-859e-a1f705d3f3b4\\\\job_a9cbc2ad-ddca-426e-95c5-93aadf3f7725\\\\S2B_33JVN_20201215_0_L2A\\\\S2B_33JVN_20201215_0_L2A_B05.tif',\n",
       " 'C:\\\\Users\\\\DEEP\\\\python_codes\\\\Untitled Folder\\\\project_b2ee0f3d-60ae-4d6e-859e-a1f705d3f3b4\\\\job_a9cbc2ad-ddca-426e-95c5-93aadf3f7725\\\\S2B_33JVN_20201215_0_L2A\\\\S2B_33JVN_20201215_0_L2A_B06.tif',\n",
       " 'C:\\\\Users\\\\DEEP\\\\python_codes\\\\Untitled Folder\\\\project_b2ee0f3d-60ae-4d6e-859e-a1f705d3f3b4\\\\job_a9cbc2ad-ddca-426e-95c5-93aadf3f7725\\\\S2B_33JVN_20201215_0_L2A\\\\S2B_33JVN_20201215_0_L2A_B07.tif',\n",
       " 'C:\\\\Users\\\\DEEP\\\\python_codes\\\\Untitled Folder\\\\project_b2ee0f3d-60ae-4d6e-859e-a1f705d3f3b4\\\\job_a9cbc2ad-ddca-426e-95c5-93aadf3f7725\\\\S2B_33JVN_20201215_0_L2A\\\\S2B_33JVN_20201215_0_L2A_B08.tif',\n",
       " 'C:\\\\Users\\\\DEEP\\\\python_codes\\\\Untitled Folder\\\\project_b2ee0f3d-60ae-4d6e-859e-a1f705d3f3b4\\\\job_a9cbc2ad-ddca-426e-95c5-93aadf3f7725\\\\S2B_33JVN_20201215_0_L2A\\\\S2B_33JVN_20201215_0_L2A_B09.tif',\n",
       " 'C:\\\\Users\\\\DEEP\\\\python_codes\\\\Untitled Folder\\\\project_b2ee0f3d-60ae-4d6e-859e-a1f705d3f3b4\\\\job_a9cbc2ad-ddca-426e-95c5-93aadf3f7725\\\\S2B_33JVN_20201215_0_L2A\\\\S2B_33JVN_20201215_0_L2A_B11.tif',\n",
       " 'C:\\\\Users\\\\DEEP\\\\python_codes\\\\Untitled Folder\\\\project_b2ee0f3d-60ae-4d6e-859e-a1f705d3f3b4\\\\job_a9cbc2ad-ddca-426e-95c5-93aadf3f7725\\\\S2B_33JVN_20201215_0_L2A\\\\S2B_33JVN_20201215_0_L2A_B12.tif',\n",
       " 'C:\\\\Users\\\\DEEP\\\\python_codes\\\\Untitled Folder\\\\project_b2ee0f3d-60ae-4d6e-859e-a1f705d3f3b4\\\\job_a9cbc2ad-ddca-426e-95c5-93aadf3f7725\\\\S2B_33JVN_20201215_0_L2A\\\\S2B_33JVN_20201215_0_L2A_B8A.tif',\n",
       " 'C:\\\\Users\\\\DEEP\\\\python_codes\\\\Untitled Folder\\\\project_b2ee0f3d-60ae-4d6e-859e-a1f705d3f3b4\\\\job_a9cbc2ad-ddca-426e-95c5-93aadf3f7725\\\\S2B_33JVN_20201215_0_L2A\\\\S2B_33JVN_20201215_0_L2A_vrt.vrt']"
      ]
     },
     "execution_count": 16,
     "metadata": {},
     "output_type": "execute_result"
    }
   ],
   "source": [
    "# Downlod Results\n",
    "job.download_results()"
   ]
  },
  {
   "cell_type": "code",
   "execution_count": null,
   "id": "7199003e",
   "metadata": {},
   "outputs": [],
   "source": [
    "# Identify the RGB bands.\n",
    "red = 'project_1f2bad99-daad-4a60-9192-5169263caff6/job_01bdf71e-7c35-4454-844b-809900bcef64/S2B_33JVN_20201215_0_L2A_B04.tif'\n",
    "green = 'project_1f2bad99-daad-4a60-9192-5169263caff6/job_01bdf71e-7c35-4454-844b-809900bcef64/S2B_33JVN_20201215_0_L2A_B03.tif'\n",
    "blue = 'project_1f2bad99-daad-4a60-9192-5169263caff6/job_01bdf71e-7c35-4454-844b-809900bcef64/S2B_33JVN_20201215_0_L2A_B02.tif'\n",
    "file_list = [red, green, blue]"
   ]
  },
  {
   "cell_type": "code",
   "execution_count": null,
   "id": "bbf0bc0a",
   "metadata": {},
   "outputs": [],
   "source": [
    "def normalize(array):\n",
    "    \"\"\"Normalizes numpy arrays into scale 0.0 - 1.0\"\"\"\n",
    "    array_min, array_max = array.min(), array.max()\n",
    "    return ((array - array_min)/(array_max - array_min))"
   ]
  },
  {
   "cell_type": "code",
   "execution_count": null,
   "id": "3aaa9fa5",
   "metadata": {},
   "outputs": [],
   "source": []
  }
 ],
 "metadata": {
  "kernelspec": {
   "display_name": "Python 3 (ipykernel)",
   "language": "python",
   "name": "python3"
  },
  "language_info": {
   "codemirror_mode": {
    "name": "ipython",
    "version": 3
   },
   "file_extension": ".py",
   "mimetype": "text/x-python",
   "name": "python",
   "nbconvert_exporter": "python",
   "pygments_lexer": "ipython3",
   "version": "3.8.13"
  }
 },
 "nbformat": 4,
 "nbformat_minor": 5
}
