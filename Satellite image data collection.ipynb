{
 "cells": [
  {
   "cell_type": "code",
   "execution_count": 1,
   "id": "d2da318a",
   "metadata": {},
   "outputs": [
    {
     "name": "stderr",
     "output_type": "stream",
     "text": [
      "2022-05-11 15:42:46,635 - Authentication with UP42 successful!\n",
      "2022-05-11 15:42:50,492 - Initialized Project(name: Forestfire, project_id: b2ee0f3d-60ae-4d6e-859e-a1f705d3f3b4, description: , createdAt: 2022-05-11T19:30:23.588443Z)\n"
     ]
    }
   ],
   "source": [
    "import up42\n",
    "up42.authenticate(project_id=\"b2ee0f3d-60ae-4d6e-859e-a1f705d3f3b4\", project_api_key=\"NacRYkHJ.gd4pnDdrZD6XQgKYiX6T4CKCYCu8WC2ucIB\") # inline authentication (also possible with json file)\n",
    "project = up42.initialize_project()"
   ]
  },
  {
   "cell_type": "code",
   "execution_count": 2,
   "id": "775fd3e3",
   "metadata": {},
   "outputs": [
    {
     "name": "stderr",
     "output_type": "stream",
     "text": [
      "2022-05-11 15:43:02,813 - Getting existing workflows in project ...\n",
      "2022-05-11 15:43:05,003 - Got 1 workflows for project b2ee0f3d-60ae-4d6e-859e-a1f705d3f3b4.\n",
      "2022-05-11 15:43:05,479 - Created new workflow: f0123547-eb32-4968-8ac4-76896dba0dd3\n",
      "2022-05-11 15:43:13,766 - Added tasks to workflow: [{'name': 'esa-s2-l2a-gtiff-visual:1', 'parentName': None, 'blockId': 'c4cb8913-2ef3-4e82-a426-65ea8faacd9a'}, {'name': 'sharpening:1', 'parentName': 'esa-s2-l2a-gtiff-visual:1', 'blockId': 'e374ea64-dc3b-4500-bb4b-974260fb203e'}]\n"
     ]
    }
   ],
   "source": [
    "# Construct workflow\n",
    "workflow = project.create_workflow(name=\"30-seconds-workflow\", use_existing=True)\n",
    "input_tasks = [\"Sentinel-2 L2A Visual (GeoTIFF)\",\n",
    "               \"Sharpening Filter\"]\n",
    "workflow.add_workflow_tasks(input_tasks)"
   ]
  },
  {
   "cell_type": "code",
   "execution_count": 3,
   "id": "e0f72082",
   "metadata": {},
   "outputs": [
    {
     "name": "stderr",
     "output_type": "stream",
     "text": [
      "2022-05-11 15:43:32,119 - Getting small example aoi in location 'Berlin'.\n"
     ]
    }
   ],
   "source": [
    "# Define the aoi and input parameters of the workflow to run it.\n",
    "aoi = up42.get_example_aoi(as_dataframe=True)\n",
    "# Or use up42.draw_aoi(), up42.read_vector_file(), FeatureCollection, GeoDataFrame etc.\n",
    "input_parameters = workflow.construct_parameters(geometry=aoi, \n",
    "                                                 geometry_operation=\"bbox\", \n",
    "                                                 start_date=\"2018-01-01\",\n",
    "                                                 end_date=\"2020-12-31\",\n",
    "                                                 limit=1)\n",
    "input_parameters[\"esa-s2-l2a-gtiff-visual:1\"].update({\"max_cloud_cover\":5})"
   ]
  },
  {
   "cell_type": "code",
   "execution_count": 4,
   "id": "c42c807d",
   "metadata": {},
   "outputs": [
    {
     "name": "stderr",
     "output_type": "stream",
     "text": [
      "2022-05-11 15:43:50,503 - Estimated: 2-2 Credits, Duration: 5-5 min.\n"
     ]
    },
    {
     "data": {
      "text/plain": [
       "{'esa-s2-l2a-gtiff-visual:1': {'blockConsumption': {'resources': {'unit': 'SQUARE_KM',\n",
       "    'min': 0.027816,\n",
       "    'max': 0.027816},\n",
       "   'credit': {'min': 0, 'max': 0}},\n",
       "  'machineConsumption': {'duration': {'min': 0, 'max': 0},\n",
       "   'credit': {'min': 1, 'max': 1}}},\n",
       " 'sharpening:1': {'blockConsumption': {'resources': {'unit': 'SQUARE_KM',\n",
       "    'min': 0.027816,\n",
       "    'max': 0.027816},\n",
       "   'credit': {'min': 0, 'max': 0}},\n",
       "  'machineConsumption': {'duration': {'min': 308, 'max': 349},\n",
       "   'credit': {'min': 1, 'max': 1}}}}"
      ]
     },
     "execution_count": 4,
     "metadata": {},
     "output_type": "execute_result"
    }
   ],
   "source": [
    "# Price estimation\n",
    "workflow.estimate_job(input_parameters)"
   ]
  },
  {
   "cell_type": "code",
   "execution_count": 5,
   "id": "fc810f2b",
   "metadata": {},
   "outputs": [
    {
     "name": "stderr",
     "output_type": "stream",
     "text": [
      "2022-05-11 15:44:01,959 - +++++++++++++++++++++++++++++++++\n",
      "2022-05-11 15:44:01,960 - Running this job as Test Query...\n",
      "2022-05-11 15:44:01,961 - +++++++++++++++++++++++++++++++++\n",
      "2022-05-11 15:44:01,962 - Selected input_parameters: {'esa-s2-l2a-gtiff-visual:1': {'time': '2018-01-01T00:00:00Z/2020-12-31T23:59:59Z', 'limit': 1, 'max_cloud_cover': 5, 'bbox': [13.375966, 52.515068, 13.378314, 52.516639]}, 'sharpening:1': {'strength': 'medium'}, 'config': {'mode': 'DRY_RUN'}}\n",
      "2022-05-11 15:44:02,998 - Created and running new job: 2467d64c-7ad6-41c5-a7b8-a5ab16ebeeae.\n",
      "2022-05-11 15:44:03,423 - Tracking job status continuously, reporting every 30 seconds...\n",
      "2022-05-11 15:44:36,099 - Job is RUNNING! - 2467d64c-7ad6-41c5-a7b8-a5ab16ebeeae\n",
      "2022-05-11 15:45:08,808 - Job finished successfully! - 2467d64c-7ad6-41c5-a7b8-a5ab16ebeeae\n"
     ]
    }
   ],
   "source": [
    "# Run a test job to query data availability and check the configuration.\n",
    "test_job = workflow.test_job(input_parameters, track_status=True)"
   ]
  },
  {
   "cell_type": "code",
   "execution_count": 6,
   "id": "e5848e19",
   "metadata": {},
   "outputs": [
    {
     "name": "stderr",
     "output_type": "stream",
     "text": [
      "2022-05-11 15:45:15,582 - Selected input_parameters: {'esa-s2-l2a-gtiff-visual:1': {'time': '2018-01-01T00:00:00Z/2020-12-31T23:59:59Z', 'limit': 1, 'max_cloud_cover': 5, 'bbox': [13.375966, 52.515068, 13.378314, 52.516639]}, 'sharpening:1': {'strength': 'medium'}}\n",
      "2022-05-11 15:45:21,385 - Created and running new job: 1c643a91-255c-43fd-9bac-3f2d20c817d0.\n",
      "2022-05-11 15:45:21,872 - Tracking job status continuously, reporting every 30 seconds...\n",
      "2022-05-11 15:45:54,296 - Job is RUNNING! - 1c643a91-255c-43fd-9bac-3f2d20c817d0\n",
      "2022-05-11 15:46:26,226 - Job is RUNNING! - 1c643a91-255c-43fd-9bac-3f2d20c817d0\n",
      "2022-05-11 15:47:01,813 - Job is RUNNING! - 1c643a91-255c-43fd-9bac-3f2d20c817d0\n",
      "2022-05-11 15:47:07,587 - Job finished successfully! - 1c643a91-255c-43fd-9bac-3f2d20c817d0\n",
      "2022-05-11 15:47:12,594 - Downloading results of job 1c643a91-255c-43fd-9bac-3f2d20c817d0\n",
      "2022-05-11 15:47:12,596 - Download directory: C:\\Users\\DEEP\\python_codes\\Untitled Folder\\project_b2ee0f3d-60ae-4d6e-859e-a1f705d3f3b4\\job_1c643a91-255c-43fd-9bac-3f2d20c817d0\n",
      "3it [00:00, 3003.80it/s]\n",
      "2022-05-11 15:47:14,516 - Download successful of 2 files to output_directory 'C:\\Users\\DEEP\\python_codes\\Untitled Folder\\project_b2ee0f3d-60ae-4d6e-859e-a1f705d3f3b4\\job_1c643a91-255c-43fd-9bac-3f2d20c817d0': ['data.json', 'S2B_32UQD_20201219_0_L2A_visual.tif']\n"
     ]
    },
    {
     "data": {
      "image/png": "[encoded data removed]",
      "text/plain": [
       "<Figure size 432x432 with 1 Axes>"
      ]
     },
     "metadata": {
      "needs_background": "light"
     },
     "output_type": "display_data"
    }
   ],
   "source": [
    "# Run the actual job.\n",
    "job = workflow.run_job(input_parameters, track_status=True)\n",
    "\n",
    "job.download_results()\n",
    "job.plot_results(figsize=(6,6))"
   ]
  },
  {
   "cell_type": "code",
   "execution_count": null,
   "id": "56d38d54",
   "metadata": {},
   "outputs": [],
   "source": []
  },
  {
   "cell_type": "code",
   "execution_count": null,
   "id": "0665f403",
   "metadata": {},
   "outputs": [],
   "source": []
  },
  {
   "cell_type": "code",
   "execution_count": null,
   "id": "bc6c8846",
   "metadata": {},
   "outputs": [],
   "source": []
  },
  {
   "cell_type": "code",
   "execution_count": null,
   "id": "24420c2b",
   "metadata": {},
   "outputs": [],
   "source": []
  },
  {
   "cell_type": "code",
   "execution_count": null,
   "id": "c5d93157",
   "metadata": {},
   "outputs": [],
   "source": []
  },
  {
   "cell_type": "code",
   "execution_count": null,
   "id": "3721d7c9",
   "metadata": {},
   "outputs": [],
   "source": []
  },
  {
   "cell_type": "code",
   "execution_count": null,
   "id": "c8c3bee7",
   "metadata": {},
   "outputs": [],
   "source": []
  },
  {
   "cell_type": "code",
   "execution_count": null,
   "id": "49e3c6d5",
   "metadata": {},
   "outputs": [],
   "source": []
  },
  {
   "cell_type": "code",
   "execution_count": null,
   "id": "f49de64c",
   "metadata": {},
   "outputs": [],
   "source": []
  },
  {
   "cell_type": "code",
   "execution_count": null,
   "id": "6116750a",
   "metadata": {},
   "outputs": [],
   "source": []
  },
  {
   "cell_type": "code",
   "execution_count": null,
   "id": "6e38bde2",
   "metadata": {},
   "outputs": [],
   "source": []
  },
  {
   "cell_type": "code",
   "execution_count": null,
   "id": "58b2d820",
   "metadata": {},
   "outputs": [],
   "source": []
  },
  {
   "cell_type": "code",
   "execution_count": null,
   "id": "53d7a5c5",
   "metadata": {},
   "outputs": [],
   "source": []
  },
  {
   "cell_type": "code",
   "execution_count": null,
   "id": "672b46d9",
   "metadata": {},
   "outputs": [],
   "source": []
  }
 ],
 "metadata": {
  "kernelspec": {
   "display_name": "Python 3 (ipykernel)",
   "language": "python",
   "name": "python3"
  },
  "language_info": {
   "codemirror_mode": {
    "name": "ipython",
    "version": 3
   },
   "file_extension": ".py",
   "mimetype": "text/x-python",
   "name": "python",
   "nbconvert_exporter": "python",
   "pygments_lexer": "ipython3",
   "version": "3.8.13"
  }
 },
 "nbformat": 4,
 "nbformat_minor": 5
}
